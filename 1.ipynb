{
 "cells": [
  {
   "cell_type": "code",
   "execution_count": null,
   "metadata": {},
   "outputs": [],
   "source": [
    "x = 5 #here the = sign is called as an assignment operator\n",
    "# variable names cannot start with a number or a special character eg -, _, *...\n",
    "# eg: 2x, 454variable,  _pri"
   ]
  }
 ],
 "metadata": {
  "language_info": {
   "name": "python"
  },
  "orig_nbformat": 4
 },
 "nbformat": 4,
 "nbformat_minor": 2
}
