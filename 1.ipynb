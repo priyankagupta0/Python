{
 "cells": [
  {
   "cell_type": "code",
   "execution_count": 2,
   "metadata": {},
   "outputs": [],
   "source": [
    "x = 5 #here the = sign is called as an assignment operator\n",
    "# variable names cannot start with a number or a special character eg -, _, *...\n",
    "# eg: 2x, 454variable,  _pri"
   ]
  },
  {
   "cell_type": "code",
   "execution_count": 3,
   "metadata": {},
   "outputs": [
    {
     "data": {
      "text/plain": [
       "'Hello World'"
      ]
     },
     "execution_count": 3,
     "metadata": {},
     "output_type": "execute_result"
    }
   ],
   "source": [
    "# Pyhton can add two strings together:\n",
    "string1 = \"Hello \"\n",
    "string2 = \"World\"\n",
    "string1 + string2"
   ]
  },
  {
   "cell_type": "code",
   "execution_count": 2,
   "metadata": {},
   "outputs": [
    {
     "data": {
      "text/plain": [
       "False"
      ]
     },
     "execution_count": 2,
     "metadata": {},
     "output_type": "execute_result"
    }
   ],
   "source": [
    "1==2 #comparison operator\n",
    "# Lists are ordered and mutable collection of items where duplicate items are acceptable.\n",
    "my_list = ['list', 'of', 'strings']\n",
    "my_list = [1,'list', False, []]\n",
    "my_list = [[1,2,3],[False, True], []]\n",
    "\n",
    "list1 = [1,2,3]\n",
    "list2 = [3,2,1]\n",
    "list1 == list2"
   ]
  },
  {
   "attachments": {},
   "cell_type": "markdown",
   "metadata": {},
   "source": [
    "# Sets\n"
   ]
  },
  {
   "cell_type": "code",
   "execution_count": 3,
   "metadata": {},
   "outputs": [
    {
     "name": "stdout",
     "output_type": "stream",
     "text": [
      "5\n",
      "{1, 2, 3, 4, 5}\n",
      "{3}\n",
      "{1, 2}\n",
      "{1, 2, 4, 5}\n"
     ]
    }
   ],
   "source": [
    "# sets do not preserve the order of elements, and they do not allow duplicate values\n",
    "sett = {1,3,5,6,8,6,6,6,6}\n",
    "print(len(sett))\n",
    "# you can also perform set operations such as union, intersection, difference, and symmetric difference\n",
    "\n",
    "set1 = {1, 2, 3}\n",
    "set2 = {3, 4, 5}\n",
    "\n",
    "# Union\n",
    "print(set1.union(set2))  # Output: {1, 2, 3, 4, 5}\n",
    "\n",
    "# Intersection\n",
    "print(set1.intersection(set2))  # Output: {3}\n",
    "\n",
    "# Difference\n",
    "print(set1.difference(set2))  # Output: {1, 2}\n",
    "\n",
    "# Symmetric Difference\n",
    "print(set1.symmetric_difference(set2))  # Output: {1, 2, 4, 5}\n"
   ]
  },
  {
   "cell_type": "code",
   "execution_count": 1,
   "metadata": {},
   "outputs": [
    {
     "data": {
      "text/plain": [
       "True"
      ]
     },
     "execution_count": 1,
     "metadata": {},
     "output_type": "execute_result"
    }
   ],
   "source": [
    "set1 = {1,2,3,4}\n",
    "set2 = {3,2,2,1,1,4,3}\n",
    "set1 == set2"
   ]
  },
  {
   "attachments": {},
   "cell_type": "markdown",
   "metadata": {},
   "source": [
    "# Tuples"
   ]
  },
  {
   "cell_type": "code",
   "execution_count": 3,
   "metadata": {},
   "outputs": [
    {
     "data": {
      "text/plain": [
       "False"
      ]
     },
     "execution_count": 3,
     "metadata": {},
     "output_type": "execute_result"
    }
   ],
   "source": [
    "# A tuple is a collection of objects which ordered and immutable. Tuples are sequences, just like lists.\n",
    "\n",
    "my_tuple = (1,2,3)\n",
    "len(my_tuple)\n",
    "\n",
    "(1,2) == (2,1)"
   ]
  },
  {
   "cell_type": "code",
   "execution_count": 9,
   "metadata": {},
   "outputs": [
    {
     "data": {
      "text/plain": [
       "[[1, 2, 3], [False, True], [], 4, 4, 3, 45, 45, [3]]"
      ]
     },
     "execution_count": 9,
     "metadata": {},
     "output_type": "execute_result"
    }
   ],
   "source": [
    "# IMP you can append on list using .append(3) here 3 or anything but in tuple you can not append\n",
    "my_list.append([3])\n",
    "my_list"
   ]
  },
  {
   "cell_type": "code",
   "execution_count": 11,
   "metadata": {},
   "outputs": [
    {
     "ename": "AttributeError",
     "evalue": "'tuple' object has no attribute 'append'",
     "output_type": "error",
     "traceback": [
      "\u001b[0;31m---------------------------------------------------------------------------\u001b[0m",
      "\u001b[0;31mAttributeError\u001b[0m                            Traceback (most recent call last)",
      "Cell \u001b[0;32mIn[11], line 1\u001b[0m\n\u001b[0;32m----> 1\u001b[0m my_tuple\u001b[39m.\u001b[39;49mappend(\u001b[39m7\u001b[39m)\n",
      "\u001b[0;31mAttributeError\u001b[0m: 'tuple' object has no attribute 'append'"
     ]
    }
   ],
   "source": [
    "my_tuple.append(7)\n"
   ]
  },
  {
   "cell_type": "code",
   "execution_count": null,
   "metadata": {},
   "outputs": [],
   "source": []
  }
 ],
 "metadata": {
  "kernelspec": {
   "display_name": "Python 3",
   "language": "python",
   "name": "python3"
  },
  "language_info": {
   "codemirror_mode": {
    "name": "ipython",
    "version": 3
   },
   "file_extension": ".py",
   "mimetype": "text/x-python",
   "name": "python",
   "nbconvert_exporter": "python",
   "pygments_lexer": "ipython3",
   "version": "3.10.8"
  },
  "orig_nbformat": 4
 },
 "nbformat": 4,
 "nbformat_minor": 2
}
