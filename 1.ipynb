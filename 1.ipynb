{
 "cells": [
  {
   "cell_type": "code",
   "execution_count": 2,
   "metadata": {},
   "outputs": [],
   "source": [
    "x = 5 #here the = sign is called as an assignment operator\n",
    "# variable names cannot start with a number or a special character eg -, _, *...\n",
    "# eg: 2x, 454variable,  _pri"
   ]
  },
  {
   "cell_type": "code",
   "execution_count": 3,
   "metadata": {},
   "outputs": [
    {
     "data": {
      "text/plain": [
       "'Hello World'"
      ]
     },
     "execution_count": 3,
     "metadata": {},
     "output_type": "execute_result"
    }
   ],
   "source": [
    "# Pyhton can add two strings together:\n",
    "string1 = \"Hello \"\n",
    "string2 = \"World\"\n",
    "string1 + string2"
   ]
  },
  {
   "cell_type": "code",
   "execution_count": 1,
   "metadata": {},
   "outputs": [],
   "source": [
    "1==2 #comparison operator\n",
    "# Lists are ordered and mutable collection of items where duplicate items are acceptable.\n",
    "my_list = ['list', 'of', 'strings']\n",
    "my_list = [1,'list', False, []]\n",
    "my_list = [[1,2,3],[False, True], []]"
   ]
  },
  {
   "cell_type": "code",
   "execution_count": 3,
   "metadata": {},
   "outputs": [
    {
     "name": "stdout",
     "output_type": "stream",
     "text": [
      "5\n",
      "{1, 2, 3, 4, 5}\n",
      "{3}\n",
      "{1, 2}\n",
      "{1, 2, 4, 5}\n"
     ]
    }
   ],
   "source": [
    "# sets do not preserve the order of elements, and they do not allow duplicate values\n",
    "sett = {1,3,5,6,8,6,6,6,6}\n",
    "print(len(sett))\n",
    "# you can also perform set operations such as union, intersection, difference, and symmetric difference\n",
    "\n",
    "set1 = {1, 2, 3}\n",
    "set2 = {3, 4, 5}\n",
    "\n",
    "# Union\n",
    "print(set1.union(set2))  # Output: {1, 2, 3, 4, 5}\n",
    "\n",
    "# Intersection\n",
    "print(set1.intersection(set2))  # Output: {3}\n",
    "\n",
    "# Difference\n",
    "print(set1.difference(set2))  # Output: {1, 2}\n",
    "\n",
    "# Symmetric Difference\n",
    "print(set1.symmetric_difference(set2))  # Output: {1, 2, 4, 5}\n"
   ]
  },
  {
   "cell_type": "code",
   "execution_count": null,
   "metadata": {},
   "outputs": [],
   "source": []
  }
 ],
 "metadata": {
  "kernelspec": {
   "display_name": "Python 3",
   "language": "python",
   "name": "python3"
  },
  "language_info": {
   "codemirror_mode": {
    "name": "ipython",
    "version": 3
   },
   "file_extension": ".py",
   "mimetype": "text/x-python",
   "name": "python",
   "nbconvert_exporter": "python",
   "pygments_lexer": "ipython3",
   "version": "3.10.8"
  },
  "orig_nbformat": 4
 },
 "nbformat": 4,
 "nbformat_minor": 2
}
